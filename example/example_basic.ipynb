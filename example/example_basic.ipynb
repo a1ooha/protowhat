{
 "cells": [
  {
   "cell_type": "code",
   "execution_count": 1,
   "metadata": {
    "collapsed": true
   },
   "outputs": [],
   "source": [
    "from protowhat.State import State\n",
    "from protowhat.Reporter import Reporter"
   ]
  },
  {
   "cell_type": "code",
   "execution_count": 2,
   "metadata": {
    "collapsed": false
   },
   "outputs": [],
   "source": [
    "s = State(\n",
    "        student_code = \"echo hey\",\n",
    "        solution_code = \"echo -n hey\",\n",
    "        pre_exercise_code = \"\",\n",
    "        student_conn = None,\n",
    "        solution_conn = None,\n",
    "        student_result = \"hey\\r\\n\",\n",
    "        solution_result = \"hey\",\n",
    "        reporter = Reporter()\n",
    "        )"
   ]
  },
  {
   "cell_type": "code",
   "execution_count": 3,
   "metadata": {
    "collapsed": false
   },
   "outputs": [
    {
     "name": "stdout",
     "output_type": "stream",
     "text": [
      "echo hey\n",
      "echo -n hey\n",
      "hey\r\n",
      "\n"
     ]
    }
   ],
   "source": [
    "print(s.student_code)\n",
    "print(s.solution_code)\n",
    "print(s.student_result)"
   ]
  },
  {
   "cell_type": "code",
   "execution_count": 4,
   "metadata": {
    "collapsed": false
   },
   "outputs": [
    {
     "ename": "TestFail",
     "evalue": "<protowhat.Test.Feedback object at 0x10437f320>",
     "output_type": "error",
     "traceback": [
      "\u001b[0;31m---------------------------------------------------------------------------\u001b[0m",
      "\u001b[0;31mTestFail\u001b[0m                                  Traceback (most recent call last)",
      "\u001b[0;32m<ipython-input-4-fec8f3bab4c2>\u001b[0m in \u001b[0;36m<module>\u001b[0;34m()\u001b[0m\n\u001b[0;32m----> 1\u001b[0;31m \u001b[0ms\u001b[0m\u001b[0;34m.\u001b[0m\u001b[0mdo_test\u001b[0m\u001b[0;34m(\u001b[0m\u001b[0;34m\"some failure message\"\u001b[0m\u001b[0;34m)\u001b[0m\u001b[0;34m\u001b[0m\u001b[0m\n\u001b[0m",
      "\u001b[0;32m/Users/machow/repo/protowhat/protowhat/State.py\u001b[0m in \u001b[0;36mdo_test\u001b[0;34m(self, highlight, *args, **kwargs)\u001b[0m\n\u001b[1;32m     72\u001b[0m         \u001b[0mhighlight\u001b[0m \u001b[0;34m=\u001b[0m \u001b[0mself\u001b[0m\u001b[0;34m.\u001b[0m\u001b[0mstudent_ast\u001b[0m \u001b[0;32mif\u001b[0m \u001b[0mhighlight\u001b[0m \u001b[0;32mis\u001b[0m \u001b[0;32mNone\u001b[0m \u001b[0;32melse\u001b[0m \u001b[0mhighlight\u001b[0m\u001b[0;34m\u001b[0m\u001b[0m\n\u001b[1;32m     73\u001b[0m \u001b[0;34m\u001b[0m\u001b[0m\n\u001b[0;32m---> 74\u001b[0;31m         \u001b[0;32mreturn\u001b[0m \u001b[0mself\u001b[0m\u001b[0;34m.\u001b[0m\u001b[0mreporter\u001b[0m\u001b[0;34m.\u001b[0m\u001b[0mdo_test\u001b[0m\u001b[0;34m(\u001b[0m\u001b[0;34m*\u001b[0m\u001b[0margs\u001b[0m\u001b[0;34m,\u001b[0m \u001b[0mhighlight\u001b[0m\u001b[0;34m=\u001b[0m\u001b[0mhighlight\u001b[0m\u001b[0;34m,\u001b[0m \u001b[0;34m**\u001b[0m\u001b[0mkwargs\u001b[0m\u001b[0;34m)\u001b[0m\u001b[0;34m\u001b[0m\u001b[0m\n\u001b[0m\u001b[1;32m     75\u001b[0m \u001b[0;34m\u001b[0m\u001b[0m\n\u001b[1;32m     76\u001b[0m     \u001b[0;32mdef\u001b[0m \u001b[0mto_child\u001b[0m\u001b[0;34m(\u001b[0m\u001b[0mself\u001b[0m\u001b[0;34m,\u001b[0m \u001b[0;34m**\u001b[0m\u001b[0mkwargs\u001b[0m\u001b[0;34m)\u001b[0m\u001b[0;34m:\u001b[0m\u001b[0;34m\u001b[0m\u001b[0m\n",
      "\u001b[0;32m/Users/machow/repo/protowhat/protowhat/Reporter.py\u001b[0m in \u001b[0;36mdo_test\u001b[0;34m(self, testobj, highlight)\u001b[0m\n\u001b[1;32m     39\u001b[0m                 \u001b[0mself\u001b[0m\u001b[0;34m.\u001b[0m\u001b[0mfeedback\u001b[0m \u001b[0;34m=\u001b[0m \u001b[0mFeedback\u001b[0m\u001b[0;34m(\u001b[0m\u001b[0mself\u001b[0m\u001b[0;34m.\u001b[0m\u001b[0mfeedback\u001b[0m\u001b[0;34m.\u001b[0m\u001b[0mmessage\u001b[0m\u001b[0;34m,\u001b[0m \u001b[0mhighlight\u001b[0m\u001b[0;34m)\u001b[0m\u001b[0;34m\u001b[0m\u001b[0m\n\u001b[1;32m     40\u001b[0m \u001b[0;34m\u001b[0m\u001b[0m\n\u001b[0;32m---> 41\u001b[0;31m             \u001b[0;32mraise\u001b[0m \u001b[0mTestFail\u001b[0m\u001b[0;34m(\u001b[0m\u001b[0mself\u001b[0m\u001b[0;34m.\u001b[0m\u001b[0mfeedback\u001b[0m\u001b[0;34m)\u001b[0m\u001b[0;34m\u001b[0m\u001b[0m\n\u001b[0m\u001b[1;32m     42\u001b[0m         \u001b[0;32melse\u001b[0m\u001b[0;34m:\u001b[0m\u001b[0;34m\u001b[0m\u001b[0m\n\u001b[1;32m     43\u001b[0m             \u001b[0mtestobj\u001b[0m\u001b[0;34m(\u001b[0m\u001b[0;34m)\u001b[0m    \u001b[0;31m# run function for side effects\u001b[0m\u001b[0;34m\u001b[0m\u001b[0m\n",
      "\u001b[0;31mTestFail\u001b[0m: <protowhat.Test.Feedback object at 0x10437f320>"
     ]
    }
   ],
   "source": [
    "s.do_test(\"some failure message\")"
   ]
  },
  {
   "cell_type": "code",
   "execution_count": 5,
   "metadata": {
    "collapsed": false
   },
   "outputs": [
    {
     "name": "stdout",
     "output_type": "stream",
     "text": [
      "some failure message\n",
      "{}\n",
      "True\n"
     ]
    }
   ],
   "source": [
    "from protowhat.Test import TestFail\n",
    "\n",
    "try:\n",
    "    s.do_test(\"some failure message\")\n",
    "except TestFail as e:\n",
    "    fb = e.args[0]\n",
    "\n",
    "print(fb.message)\n",
    "print(fb.line_info)\n",
    "# feedback object also held on reporter\n",
    "print(s.reporter.feedback is fb)"
   ]
  },
  {
   "cell_type": "code",
   "execution_count": 6,
   "metadata": {
    "collapsed": false
   },
   "outputs": [
    {
     "name": "stdout",
     "output_type": "stream",
     "text": [
      "True\n",
      "Submission does not contain the code `echodsklfj`.\n"
     ]
    }
   ],
   "source": [
    "from protowhat.checks.check_funcs import test_student_typed\n",
    "from protowhat.Test import TestFail\n",
    "\n",
    "# passes\n",
    "s2 = test_student_typed(s, 'echo')\n",
    "print(s is s2)\n",
    "\n",
    "try: test_student_typed(s, 'echodsklfj')\n",
    "except TestFail as e:\n",
    "    fb = e.args[0]\n",
    "    print(fb.message)"
   ]
  }
 ],
 "metadata": {
  "kernelspec": {
   "display_name": "Python [Root]",
   "language": "python",
   "name": "Python [Root]"
  },
  "language_info": {
   "codemirror_mode": {
    "name": "ipython",
    "version": 3
   },
   "file_extension": ".py",
   "mimetype": "text/x-python",
   "name": "python",
   "nbconvert_exporter": "python",
   "pygments_lexer": "ipython3",
   "version": "3.5.2"
  }
 },
 "nbformat": 4,
 "nbformat_minor": 0
}
